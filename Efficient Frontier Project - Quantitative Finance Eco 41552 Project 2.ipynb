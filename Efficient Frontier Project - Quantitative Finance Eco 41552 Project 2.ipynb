{
 "cells": [
  {
   "cell_type": "code",
   "execution_count": 2,
   "id": "b6d0d6b5",
   "metadata": {},
   "outputs": [
    {
     "name": "stdout",
     "output_type": "stream",
     "text": [
      "[*********************100%%**********************]  1 of 1 completed\n",
      "[*********************100%%**********************]  1 of 1 completed\n",
      "[*********************100%%**********************]  1 of 1 completed\n",
      "[*********************100%%**********************]  1 of 1 completed\n",
      "[*********************100%%**********************]  1 of 1 completed\n",
      "[*********************100%%**********************]  1 of 1 completed\n",
      "[*********************100%%**********************]  1 of 1 completed\n",
      "            FUBO_Open  FUBO_Close   AAPL_Open  AAPL_Close  GOOGL_Open  \\\n",
      "Date                                                                    \n",
      "2021-10-04  24.010000   23.250000  141.759995  139.139999  135.960495   \n",
      "2021-10-05  23.400000   23.540001  139.490005  141.110001  134.041000   \n",
      "2021-10-06  23.240000   24.129999  139.470001  142.000000  134.750000   \n",
      "2021-10-07  24.450001   25.030001  143.059998  143.289993  138.891998   \n",
      "2021-10-08  25.000000   25.120001  144.029999  142.899994  139.576996   \n",
      "\n",
      "            GOOGL_Close   UCO_Open  UCO_Close   AMZN_Open  AMZN_Close  \\\n",
      "Date                                                                    \n",
      "2021-10-04   133.659500  22.309999  22.607500  163.969498  159.488998   \n",
      "2021-10-05   136.022995  23.197500  23.500000  160.225006  161.050003   \n",
      "2021-10-06   137.565002  22.792500  22.297501  160.676498  163.100494   \n",
      "2021-10-07   139.225006  22.197500  23.242500  164.576996  165.121506   \n",
      "2021-10-08   139.785507  23.555000  23.240000  165.850006  164.431000   \n",
      "\n",
      "             TSLA_Open  TSLA_Close   NFLX_Open  NFLX_Close  \n",
      "Date                                                        \n",
      "2021-10-04  265.500000  260.510010  613.390015  603.349976  \n",
      "2021-10-05  261.600006  260.196655  606.940002  634.809998  \n",
      "2021-10-06  258.733337  260.916656  628.179993  639.099976  \n",
      "2021-10-07  261.820007  264.536682  642.229980  631.849976  \n",
      "2021-10-08  265.403320  261.829987  634.169983  632.659973  \n"
     ]
    }
   ],
   "source": [
    "import yfinance as yf\n",
    "import pandas as pd\n",
    "from datetime import datetime, timedelta\n",
    "import numpy as np\n",
    "\n",
    "# 7 assets symbols\n",
    "assets = [\"FUBO\", \"AAPL\", \"GOOGL\", \"UCO\", \"AMZN\", \"TSLA\", \"NFLX\"]\n",
    "\n",
    "# Calculate the start and end dates for the past two years\n",
    "end_date = datetime.now()\n",
    "start_date = end_date - timedelta(days=2*365)\n",
    "\n",
    "# Create an empty DataFrame to store the data\n",
    "data = pd.DataFrame()\n",
    "\n",
    "# Loop through each asset and retrieve data\n",
    "for asset in assets:\n",
    "    df = yf.download(asset, start=start_date, end=end_date)\n",
    "    data[asset + \"_Open\"] = df[\"Open\"]\n",
    "    data[asset + \"_Close\"] = df[\"Close\"]\n",
    "\n",
    "# Print the first few rows of the data\n",
    "print(data.head())"
   ]
  },
  {
   "cell_type": "code",
   "execution_count": 4,
   "id": "ba3dc54b",
   "metadata": {},
   "outputs": [
    {
     "ename": "NameError",
     "evalue": "name 'price_data' is not defined",
     "output_type": "error",
     "traceback": [
      "\u001b[1;31m---------------------------------------------------------------------------\u001b[0m",
      "\u001b[1;31mNameError\u001b[0m                                 Traceback (most recent call last)",
      "Input \u001b[1;32mIn [4]\u001b[0m, in \u001b[0;36m<cell line: 4>\u001b[1;34m()\u001b[0m\n\u001b[0;32m      1\u001b[0m \u001b[38;5;66;03m# Assuming you have a DataFrame named price_data with historical prices\u001b[39;00m\n\u001b[0;32m      2\u001b[0m \n\u001b[0;32m      3\u001b[0m \u001b[38;5;66;03m# Calculate daily returns\u001b[39;00m\n\u001b[1;32m----> 4\u001b[0m returns \u001b[38;5;241m=\u001b[39m \u001b[43mprice_data\u001b[49m\u001b[38;5;241m.\u001b[39mpct_change()\u001b[38;5;241m.\u001b[39mdropna()\n\u001b[0;32m      6\u001b[0m \u001b[38;5;66;03m# Calculate mean returns\u001b[39;00m\n\u001b[0;32m      7\u001b[0m mean_returns \u001b[38;5;241m=\u001b[39m returns\u001b[38;5;241m.\u001b[39mmean()\n",
      "\u001b[1;31mNameError\u001b[0m: name 'price_data' is not defined"
     ]
    }
   ],
   "source": [
    "# Assuming you have a DataFrame named price_data with historical prices\n",
    "\n",
    "# Calculate daily returns\n",
    "returns = price_data.pct_change().dropna()\n",
    "\n",
    "# Calculate mean returns\n",
    "mean_returns = returns.mean()\n",
    "\n",
    "# Calculate variance (risk)\n",
    "variance = returns.var()\n",
    "\n",
    "# Calculate the correlation matrix\n",
    "correlation_matrix = returns.corr()\n",
    "\n",
    "# Display the results\n",
    "print(\"Mean Returns:\")\n",
    "print(mean_returns)\n",
    "print(\"\\nVariance (Risk):\")\n",
    "print(variance)\n",
    "print(\"\\nCorrelation Matrix:\")\n",
    "print(correlation_matrix)\n",
    "\n"
   ]
  },
  {
   "cell_type": "code",
   "execution_count": null,
   "id": "df5a50a1",
   "metadata": {},
   "outputs": [],
   "source": []
  }
 ],
 "metadata": {
  "kernelspec": {
   "display_name": "Python 3 (ipykernel)",
   "language": "python",
   "name": "python3"
  },
  "language_info": {
   "codemirror_mode": {
    "name": "ipython",
    "version": 3
   },
   "file_extension": ".py",
   "mimetype": "text/x-python",
   "name": "python",
   "nbconvert_exporter": "python",
   "pygments_lexer": "ipython3",
   "version": "3.9.12"
  }
 },
 "nbformat": 4,
 "nbformat_minor": 5
}
